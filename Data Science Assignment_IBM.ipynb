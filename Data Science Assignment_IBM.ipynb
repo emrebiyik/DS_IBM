{
 "cells": [
  {
   "cell_type": "markdown",
   "id": "c838f604-530d-454d-81bf-6b7ee98f41f6",
   "metadata": {},
   "source": [
    "Exercise 2 - Create a markdown cell with the title of the notebook. (1 pt)"
   ]
  },
  {
   "cell_type": "markdown",
   "id": "f91c7f65-978a-46bd-beb8-18fcc6434fac",
   "metadata": {},
   "source": [
    "# Data Science Assignment_IBM.ipynb"
   ]
  },
  {
   "cell_type": "markdown",
   "id": "cc156bbc-9f63-482a-aa99-044215de3a0a",
   "metadata": {},
   "source": [
    "Exercise 3 - Create a markdown cell for an introduction. (1 pt)"
   ]
  },
  {
   "cell_type": "markdown",
   "id": "08ce0b68-2291-4ebb-92fe-81582e0baa5b",
   "metadata": {},
   "source": [
    "## Introduction\n",
    "This notebook serves as an introduction to essential tools and libraries used in data science, showcasing their significance in modern data analysis and machine learning workflows. Mastering these tools, such as Python libraries like NumPy, Pandas, Matplotlib, Seaborn, and Scikit-learn, is crucial for performing tasks like data manipulation, visualization, and model building."
   ]
  },
  {
   "cell_type": "markdown",
   "id": "93494bac-f5f5-463b-99d1-1abfc70dd182",
   "metadata": {},
   "source": [
    "Exercise 4 - Create a markdown cell to list data science languages. (3 pts)\n",
    "\n"
   ]
  },
  {
   "cell_type": "markdown",
   "id": "ddbb876f-8cec-4a21-9c92-b9b3df451cea",
   "metadata": {},
   "source": [
    "## Data Science Languages\n",
    "- Python\n",
    "- R\n",
    "- SQL\n",
    "- Java"
   ]
  },
  {
   "cell_type": "markdown",
   "id": "e16ecdf3-c9aa-4dee-8d7e-9e1ea73e73a2",
   "metadata": {},
   "source": [
    "Exercise 5 - Create a markdown cell to list data science libraries. (3 pts)\n",
    "\n"
   ]
  },
  {
   "cell_type": "markdown",
   "id": "4185a61b-0a56-4f84-8803-0288d6c02616",
   "metadata": {},
   "source": [
    "## Data Science Libraries\n",
    "- Pandas\n",
    "- NumPy\n",
    "- Matplotlib\n",
    "- Scikit-learn"
   ]
  },
  {
   "cell_type": "markdown",
   "id": "96d31261-abba-4581-bba6-2e6844093d88",
   "metadata": {},
   "source": [
    "Exercise 6 - Create a markdown cell with a table of Data Science tools. (3 pts)"
   ]
  },
  {
   "cell_type": "markdown",
   "id": "70200f07-38ae-4f08-a76a-aa1bd2958ef0",
   "metadata": {},
   "source": [
    "## Data Science Tools\n",
    "| Tool            | Purpose                          |\n",
    "|-----------------|----------------------------------|\n",
    "| Jupyter Notebook | Data analysis and visualization  |\n",
    "| RStudio          | Statistical computing and graphs |\n",
    "| GitHub           | Version control and collaboration|"
   ]
  },
  {
   "cell_type": "markdown",
   "id": "d061026e-947e-414b-9f81-96228726aa5c",
   "metadata": {},
   "source": [
    "Exercise 7 - Create a markdown cell introducing arithmetic expression examples. (1 pt)\n",
    "\n"
   ]
  },
  {
   "cell_type": "markdown",
   "id": "e4f93896-252c-40d1-b933-c6adb46c5249",
   "metadata": {},
   "source": [
    "## Arithmetic Expression Examples\n",
    "Below are some examples of arithmetic expressions in Python."
   ]
  },
  {
   "cell_type": "markdown",
   "id": "a6a4ed2e-0f27-4e78-a511-06612406e181",
   "metadata": {},
   "source": [
    "Exercise 8 - Create a code cell to multiply and add numbers. (2 pts)\n",
    "\n"
   ]
  },
  {
   "cell_type": "code",
   "execution_count": 2,
   "id": "bffe127e-49b1-46c0-ba63-a17a76ea7fff",
   "metadata": {},
   "outputs": [
    {
     "data": {
      "text/plain": [
       "17"
      ]
     },
     "execution_count": 2,
     "metadata": {},
     "output_type": "execute_result"
    }
   ],
   "source": [
    "# Multiplying and adding numbers\n",
    "result = (3 * 4) + 5\n",
    "result"
   ]
  },
  {
   "cell_type": "markdown",
   "id": "614a1db5-70cc-4c2b-9f98-5e0ca979da82",
   "metadata": {},
   "source": [
    "Exercise 9 - Create a code cell to convert minutes to hours. (2 pts)\n",
    "\n"
   ]
  },
  {
   "cell_type": "code",
   "execution_count": 3,
   "id": "4c6372e1-2ffb-4e49-a3a2-285a19a23899",
   "metadata": {},
   "outputs": [
    {
     "data": {
      "text/plain": [
       "2.0"
      ]
     },
     "execution_count": 3,
     "metadata": {},
     "output_type": "execute_result"
    }
   ],
   "source": [
    "# Convert minutes to hours\n",
    "minutes = 120\n",
    "hours = minutes / 60\n",
    "hours"
   ]
  },
  {
   "cell_type": "markdown",
   "id": "7009ccfe-ea29-4eb7-a588-a2b89b303096",
   "metadata": {},
   "source": [
    "Exercise 10 -Insert a markdown cell to list Objectives. (3 pts)\n",
    "\n"
   ]
  },
  {
   "cell_type": "markdown",
   "id": "85f94862-b2ee-4815-a256-02a5f848f462",
   "metadata": {},
   "source": [
    "## Objectives\n",
    "- List popular data science languages\n",
    "- List commonly used libraries\n",
    "- Create a table of Data Science tools\n",
    "- Perform simple arithmetic expressions"
   ]
  },
  {
   "cell_type": "markdown",
   "id": "951747e0-4cfa-4729-ba80-8ce2a9cc825d",
   "metadata": {},
   "source": [
    "Exercise 11 - Create a markdown cell to indicate the Author’s name. (2 pts)\n",
    "\n"
   ]
  },
  {
   "cell_type": "markdown",
   "id": "a6dbf03f-e7dc-4738-be11-e030da5b9dfa",
   "metadata": {},
   "source": [
    "## Author\n",
    "Emre Biyik"
   ]
  },
  {
   "cell_type": "markdown",
   "id": "e10e47fb-2354-4d21-9fc6-ea410c8a4c1c",
   "metadata": {},
   "source": [
    "Exercise 12 - Share your notebook through GitHub (3 pts)\n",
    "\n"
   ]
  },
  {
   "cell_type": "markdown",
   "id": "a014db0c-f1fe-4d31-afe3-dff491cfdb62",
   "metadata": {},
   "source": [
    "Exercise 13 - Take a screenshot of the first page of the notebook. (1 pt)\n",
    "\n"
   ]
  },
  {
   "cell_type": "code",
   "execution_count": null,
   "id": "1269d629-5b1f-4ed1-85d5-ff95a06000bc",
   "metadata": {},
   "outputs": [],
   "source": []
  }
 ],
 "metadata": {
  "kernelspec": {
   "display_name": "Python 3 (ipykernel)",
   "language": "python",
   "name": "python3"
  },
  "language_info": {
   "codemirror_mode": {
    "name": "ipython",
    "version": 3
   },
   "file_extension": ".py",
   "mimetype": "text/x-python",
   "name": "python",
   "nbconvert_exporter": "python",
   "pygments_lexer": "ipython3",
   "version": "3.11.9"
  }
 },
 "nbformat": 4,
 "nbformat_minor": 5
}
